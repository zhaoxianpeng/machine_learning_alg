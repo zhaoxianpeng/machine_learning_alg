{
 "cells": [
  {
   "cell_type": "code",
   "execution_count": 3,
   "metadata": {},
   "outputs": [
    {
     "data": {
      "image/png": "[encoded data removed]",
      "text/plain": [
       "<Figure size 432x288 with 1 Axes>"
      ]
     },
     "metadata": {
      "needs_background": "light"
     },
     "output_type": "display_data"
    },
    {
     "name": "stdout",
     "output_type": "stream",
     "text": [
      "(100, 2)\n",
      "(100,)\n"
     ]
    }
   ],
   "source": [
    "import pandas as pd\n",
    "import numpy as np\n",
    "import matplotlib.pyplot as plt\n",
    "\n",
    "%matplotlib inline\n",
    "\n",
    "from sklearn import datasets\n",
    "\n",
    "df = datasets.load_iris()\n",
    "X = df.data[:, [2,3]]\n",
    "y = df.target\n",
    "\n",
    "# 把数据画出来\n",
    "plt.scatter(X[y==0, 0], X[y==0, 1], label='0')\n",
    "plt.scatter(X[y==1, 0], X[y==1, 1], label='1')\n",
    "plt.scatter(X[y==2, 0], X[y==2, 1], label='2')\n",
    "plt.legend()\n",
    "plt.show()\n",
    "\n",
    "# 我们先关注最简单的二分类问题\n",
    "# 删掉类别2，只用1和0\n",
    "X = X[y!=2,:]\n",
    "y = y[y!=2]\n",
    "y[y==0] = -1\n",
    "\n",
    "print(X.shape)\n",
    "print(y.shape)"
   ]
  },
  {
   "cell_type": "markdown",
   "metadata": {},
   "source": [
    "$$\n",
    "f(x) = \\sum_{i=1}^m\\alpha_iy_i\\kappa(x_i, x) + b\n",
    "$$"
   ]
  },
  {
   "cell_type": "markdown",
   "metadata": {},
   "source": [
    "$$\n",
    "\n",
    "\n",
    "f(x) = \\alpha_iy_i\\kappa(X, x) + b\n",
    "\n",
    "\n",
    "f(x_1) = \\sum_{i=1}^m\\alpha_iy_i\\kappa(x_i, x_1) + b \\\\\n",
    "f(x_2) = \\sum_{i=1}^m\\alpha_iy_i\\kappa(x_i, x_2) + b \\\\\n",
    "f(x_j) = \\sum_{i=1}^m\\alpha_iy_i\\kappa(x_i, x_j) + b \\\\\n",
    "f(x_m) = \\sum_{i=1}^m\\alpha_iy_i\\kappa(x_i, x_m) + b \\\\\n",
    "$$\n",
    "\n",
    "\n",
    "\n"
   ]
  },
  {
   "cell_type": "markdown",
   "metadata": {},
   "source": [
    "写成向量形式\n",
    "$$\n",
    "f(X)\n",
    "$$"
   ]
  },
  {
   "cell_type": "code",
   "execution_count": 4,
   "metadata": {},
   "outputs": [],
   "source": [
    "# SVM\n",
    "class SVM:\n",
    "    def __init__(self, X, y, C, toler, kernelOption, maxIter):\n",
    "        self.X = X\n",
    "        self.y = y\n",
    "        self.C = C\n",
    "        self.toler = toler\n",
    "        self.kernelOption = kernelOption\n",
    "        self.m = X.shape[0] # 样本数量\n",
    "        self.n = X.shape[1] # 特征个数\n",
    "        self.b = 0 # 截距\n",
    "        self.maxIter = maxIter\n",
    "        \n",
    "    def __linear_kernel(self, x_i, x_j):\n",
    "        # x_i x_j都是列向量 n*1\n",
    "        return x_i.T.dot(x_j)\n",
    "    \n",
    "    def kernel(self, x_i, x_j):\n",
    "        if self.kernelOption == 'linear':\n",
    "            return self.__linear_kernel(x_i, x_j)\n",
    "        \n",
    "    def __selectJrand(self, i,m):\n",
    "        j = i\n",
    "        while j == i:\n",
    "            j = int(np.random.uniform(0,m))\n",
    "        return j\n",
    "\n",
    "    def __clipAlpha(self, aj, H, L):\n",
    "        if aj > H:\n",
    "            aj = H\n",
    "        else if aj < L:\n",
    "            aj = L\n",
    "\n",
    "        return aj\n",
    "\n",
    "    def cal_y_hat(self, alpha, X, y, b):\n",
    "        \n",
    "\n",
    "    def smoSimple(self, X=None, y=None, C=None, toler=None, maxIter=None):\n",
    "        if X is none:\n",
    "            X = self.X\n",
    "        if y is None:\n",
    "            y = self.y\n",
    "        if C is None:\n",
    "            C = self.C\n",
    "        if toler is None:\n",
    "            toler = self.toler\n",
    "        if maxIter = None:\n",
    "            maxIter = self.maxIter\n",
    "        m,n = X.shape\n",
    "\n",
    "        # 初始化alpha为全0\n",
    "        alpha = np.zeros((m,1))\n",
    "        iter = 0\n",
    "\n",
    "        while iter < maxIter:\n",
    "            for i in range(m):\n",
    "                ### check and pick up the alpha who violates the KKT condition\n",
    "                ## satisfy KKT condition\n",
    "                # 1) yi*f(i) >= 1 and alpha == 0 (outside the boundary)\n",
    "                # 2) yi*f(i) == 1 and 0<alpha< C (on the boundary)\n",
    "                # 3) yi*f(i) <= 1 and alpha == C (between the boundary)\n",
    "                ## violate KKT condition\n",
    "                # because y[i]*E_i = y[i]*f(i) - y[i]^2 = y[i]*f(i) - 1, so\n",
    "                # 1) if y[i]*E_i < 0, so yi*f(i) < 1, if alpha < C, violate!(alpha = C will be correct) \n",
    "                # 2) if y[i]*E_i > 0, so yi*f(i) > 1, if alpha > 0, violate!(alpha = 0 will be correct)\n",
    "                # 3) if y[i]*E_i = 0, so yi*f(i) = 1, it is on the boundary, needless optimized\n",
    "                if alpha[i] < C "
   ]
  },
  {
   "cell_type": "code",
   "execution_count": null,
   "metadata": {},
   "outputs": [],
   "source": []
  },
  {
   "cell_type": "code",
   "execution_count": null,
   "metadata": {},
   "outputs": [],
   "source": []
  }
 ],
 "metadata": {
  "kernelspec": {
   "display_name": "Python 3",
   "language": "python",
   "name": "python3"
  },
  "language_info": {
   "codemirror_mode": {
    "name": "ipython",
    "version": 3
   },
   "file_extension": ".py",
   "mimetype": "text/x-python",
   "name": "python",
   "nbconvert_exporter": "python",
   "pygments_lexer": "ipython3",
   "version": "3.7.0"
  }
 },
 "nbformat": 4,
 "nbformat_minor": 2
}
