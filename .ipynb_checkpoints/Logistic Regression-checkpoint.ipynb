{
 "cells": [
  {
   "cell_type": "code",
   "execution_count": 1,
   "metadata": {},
   "outputs": [],
   "source": [
    "import pandas as pd\n",
    "import numpy as np\n",
    "import matplotlib.pyplot as plt\n",
    "\n",
    "%matplotlib inline\n",
    "\n",
    "from sklearn import datasets\n",
    "\n",
    "df = datasets.load_iris()\n",
    "X = df.data\n",
    "y = df.target"
   ]
  },
  {
   "cell_type": "code",
   "execution_count": 2,
   "metadata": {},
   "outputs": [
    {
     "data": {
      "text/plain": [
       "(150, 4)"
      ]
     },
     "execution_count": 2,
     "metadata": {},
     "output_type": "execute_result"
    }
   ],
   "source": [
    "X.shape"
   ]
  },
  {
   "cell_type": "code",
   "execution_count": 3,
   "metadata": {},
   "outputs": [
    {
     "name": "stdout",
     "output_type": "stream",
     "text": [
      "[[1.         0.78256123]\n",
      " [0.78256123 1.        ]]\n",
      "[[ 1.        -0.4194462]\n",
      " [-0.4194462  1.       ]]\n",
      "[[1.         0.94904254]\n",
      " [0.94904254 1.        ]]\n",
      "[[1.         0.95646382]\n",
      " [0.95646382 1.        ]]\n"
     ]
    }
   ],
   "source": [
    "# X有4个特征，为了方便绘图，我们取2个特征做训练\n",
    "# 取两个对结果影响最大的特征即可\n",
    "print(np.corrcoef(X[:, 0],y))\n",
    "print(np.corrcoef(X[:, 1],y))\n",
    "print(np.corrcoef(X[:, 2],y))\n",
    "print(np.corrcoef(X[:, 3],y))\n"
   ]
  },
  {
   "cell_type": "code",
   "execution_count": 4,
   "metadata": {},
   "outputs": [
    {
     "name": "stdout",
     "output_type": "stream",
     "text": [
      "(150, 2)\n",
      "(150,)\n"
     ]
    }
   ],
   "source": [
    "# 从上面的协方差矩阵来客，特征2和特征3似乎于y更相关，我们选取2和3作为特征，忽略0和1\n",
    "X = df.data[:, [2,3]]\n",
    "print(X.shape)\n",
    "print(y.shape)"
   ]
  },
  {
   "cell_type": "code",
   "execution_count": 5,
   "metadata": {},
   "outputs": [
    {
     "data": {
      "image/png": "[encoded data removed]",
      "text/plain": [
       "<Figure size 432x288 with 1 Axes>"
      ]
     },
     "metadata": {
      "needs_background": "light"
     },
     "output_type": "display_data"
    }
   ],
   "source": [
    "# 把数据画出来\n",
    "plt.scatter(X[y==0, 0], X[y==0, 1], label='0')\n",
    "plt.scatter(X[y==1, 0], X[y==1, 1], label='1')\n",
    "plt.scatter(X[y==2, 0], X[y==2, 1], label='2')\n",
    "plt.legend()\n",
    "plt.show()"
   ]
  },
  {
   "cell_type": "code",
   "execution_count": 13,
   "metadata": {},
   "outputs": [
    {
     "name": "stdout",
     "output_type": "stream",
     "text": [
      "(100, 2)\n",
      "(100,)\n"
     ]
    }
   ],
   "source": [
    "# 我们先关注最简单的二分类问题\n",
    "# 删掉类别0，只用1和2\n",
    "X = df.data[: , [2,3]]\n",
    "y = df.target\n",
    "X = X[y!=0,:]\n",
    "y = y[y!=0]\n",
    "y[y==2] = 0\n",
    "\n",
    "print(X.shape)\n",
    "print(y.shape)"
   ]
  },
  {
   "cell_type": "code",
   "execution_count": 7,
   "metadata": {},
   "outputs": [
    {
     "data": {
      "image/png": "[encoded data removed]",
      "text/plain": [
       "<Figure size 432x288 with 1 Axes>"
      ]
     },
     "metadata": {
      "needs_background": "light"
     },
     "output_type": "display_data"
    }
   ],
   "source": [
    "# 把数据画出来\n",
    "plt.scatter(X[y==1, 0], X[y==1, 1], label='1')\n",
    "plt.scatter(X[y==0, 0], X[y==0, 1], label='0')\n",
    "plt.legend()\n",
    "plt.show()"
   ]
  },
  {
   "cell_type": "code",
   "execution_count": 17,
   "metadata": {},
   "outputs": [
    {
     "name": "stdout",
     "output_type": "stream",
     "text": [
      "[[-0.24109357]]\n",
      "[[-0.18045906]\n",
      " [-4.89524359]\n",
      " [ 8.86346538]]\n",
      "[[-0.00179095]\n",
      " [-0.00448841]\n",
      " [ 0.01623701]]\n"
     ]
    }
   ],
   "source": [
    "# 数据终于加载完成，下面进行分类\n",
    "# 自己实现LR\n",
    "\n",
    "# 维度说明\n",
    "# X: m*n\n",
    "# y: m*1\n",
    "# theta: n*1\n",
    "\n",
    "\n",
    "# return m*1\n",
    "def sigmoid(theta, X):\n",
    "    return 1./(1 + np.exp(-1 * X.dot(theta)))\n",
    "\n",
    "\n",
    "def cal_likehood(theta, X, y):\n",
    "    m = X.shape[0]\n",
    "    h_theta_x = sigmoid(theta, X)\n",
    "    cost = y.T.dot(np.log(h_theta_x)) + (1-y).T.dot(np.log(1-h_theta_x))\n",
    "    return cost/m\n",
    "\n",
    "def cal_grad(theta, X, y):\n",
    "    m = X.shape[0]\n",
    "    h_theta_x = sigmoid(theta, X) # m*1\n",
    "    r = y - h_theta_x\n",
    "    grad = X.T.dot(r) \n",
    "    return grad/m\n",
    "\n",
    "def grad_ascent(theta, X, y, num_iter=1000, alpha=0.01):\n",
    "    for i in range(num_iter):\n",
    "        grad = cal_grad(theta, X, y)\n",
    "        theta = theta + alpha*grad\n",
    "        if i % 100 == 0:\n",
    "            #print(cal_likehood(theta, X, y))\n",
    "            pass\n",
    "        \n",
    "    return theta\n",
    "\n",
    "\n",
    "# 用矩阵运算直接求导为0的方法求最优解\n",
    "def matrix_cal(X, y):\n",
    "    X_X_T = X.dot(X.T)\n",
    "    X_T_X = X.T.dot(X)\n",
    "    theta = np.linalg.pinv(X_T_X).dot(X.T).dot(np.log(np.linalg.pinv(X_X_T).dot(X).dot(X.T).dot(y)) - 1)\n",
    "    return theta\n",
    "\n",
    "# 加上x_0\n",
    "X = df.data[: , [2,3]]\n",
    "y = df.target\n",
    "X = X[y!=0,:]\n",
    "y = y[y!=0]\n",
    "y[y==2] = 0\n",
    "m,n = X.shape\n",
    "X_0 = np.ones((m,1))\n",
    "X = np.column_stack((X, X_0))\n",
    "n = n+1\n",
    "y = y.reshape((-1,1))\n",
    "\n",
    "theta = np.zeros((n,1))\n",
    "\n",
    "#print(sigmoid(theta,X))\n",
    "#print(cal_likehood(theta, X, y))\n",
    "#print(cal_grad(theta, X, y))\n",
    "\n",
    "theta = grad_ascent(theta, X, y, num_iter=1000, alpha=0.3)\n",
    "print(cal_likehood(theta, X, y))\n",
    "print(theta)\n",
    "print(cal_grad(theta, X, y))\n",
    "\n",
    "\n",
    "# 直接矩阵求逆的方法没有得到最优值，\n",
    "# 估计应该是运算过程中溢出或是精度缺失导致根本无法计算得到有效值了\n",
    "# theta = matrix_cal(X, y)\n",
    "# print(cal_likehood(theta, X, y))\n",
    "# print(theta)"
   ]
  },
  {
   "cell_type": "code",
   "execution_count": 18,
   "metadata": {},
   "outputs": [
    {
     "data": {
      "text/plain": [
       "<matplotlib.legend.Legend at 0x5405ef0>"
      ]
     },
     "execution_count": 18,
     "metadata": {},
     "output_type": "execute_result"
    },
    {
     "data": {
      "image/png": "[encoded data removed]",
      "text/plain": [
       "<Figure size 432x288 with 1 Axes>"
      ]
     },
     "metadata": {
      "needs_background": "light"
     },
     "output_type": "display_data"
    }
   ],
   "source": [
    "# plot theta\n",
    "X = df.data[: , [2,3]]\n",
    "y = df.target\n",
    "X = X[y!=0,:]\n",
    "y = y[y!=0]\n",
    "y[y==2] = 0\n",
    "\n",
    "plt.figure()\n",
    "plt.scatter(X[y==1, 0], X[y==1, 1], label='1')\n",
    "plt.scatter(X[y==0, 0], X[y==0, 1], label='0')\n",
    "\n",
    "#绘制分类界限\n",
    "x = np.linspace(X[:, 0].min(), X[:,0].max(), 20)\n",
    "y = (-1 * theta[2] - theta[0]*x) / theta[1]\n",
    "\n",
    "plt.plot(x, y, label='boundary')\n",
    "plt.legend()"
   ]
  },
  {
   "cell_type": "code",
   "execution_count": 43,
   "metadata": {},
   "outputs": [
    {
     "name": "stdout",
     "output_type": "stream",
     "text": [
      "(120, 3)\n",
      "(120, 1)\n"
     ]
    },
    {
     "data": {
      "image/png": "[encoded data removed]",
      "text/plain": [
       "<Figure size 432x288 with 1 Axes>"
      ]
     },
     "metadata": {
      "needs_background": "light"
     },
     "output_type": "display_data"
    }
   ],
   "source": [
    "# 构造线性不可分的数据\n",
    "\n",
    "m = 40\n",
    "\n",
    "x_1 = np.random.rand(m,1)*2 -1\n",
    "x_2 = np.sqrt(1-(x_1)**2) * np.sign(np.random.randn(m,1))\n",
    "\n",
    "plt.scatter(x_1,x_2, label = '0')\n",
    "y_0 = np.zeros((m,1))\n",
    "\n",
    "m = 80\n",
    "x_3 = np.random.rand(m,1)*4 -2 \n",
    "x_4 = np.sqrt(4-(x_3)**2) * np.sign(np.random.randn(m,1)) * 2\n",
    "\n",
    "plt.scatter(x_3,x_4, label = '1')\n",
    "plt.legend()\n",
    "y_1 = np.ones((m,1))\n",
    "\n",
    "X_1 = np.row_stack([x_1,x_3])\n",
    "X_2 = np.row_stack([x_2, x_4])\n",
    "X = np.column_stack([X_1, X_2])\n",
    "\n",
    "y = np.row_stack((y_0, y_1))\n",
    "\n",
    "m = X.shape[0]\n",
    "\n",
    "X = np.column_stack((X, np.ones((m,1))))\n",
    "\n",
    "print(X.shape)\n",
    "print(y.shape)"
   ]
  },
  {
   "cell_type": "code",
   "execution_count": null,
   "metadata": {},
   "outputs": [],
   "source": [
    "#上面的数据是线性不可分的\n",
    "#需要映射到高维空间\n",
    "\n",
    "#试着采用核函数的方法映射到高维空间\n",
    "# 这里采用高斯核函数试试，多项式核函数也可以\n",
    "\n"
   ]
  }
 ],
 "metadata": {
  "kernelspec": {
   "display_name": "Python 3",
   "language": "python",
   "name": "python3"
  },
  "language_info": {
   "codemirror_mode": {
    "name": "ipython",
    "version": 3
   },
   "file_extension": ".py",
   "mimetype": "text/x-python",
   "name": "python",
   "nbconvert_exporter": "python",
   "pygments_lexer": "ipython3",
   "version": "3.7.0"
  }
 },
 "nbformat": 4,
 "nbformat_minor": 2
}
